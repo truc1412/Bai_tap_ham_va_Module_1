{
 "cells": [
  {
   "cell_type": "code",
   "execution_count": 1,
   "id": "22bd6d40",
   "metadata": {},
   "outputs": [],
   "source": [
    "import turtle \n",
    "pen= turtle.Turtle()\n",
    "pen.speed(400)\n",
    "pen.color(\"blue\")\n",
    "def ve_hcn(a,b,col):\n",
    "    pen.fillcolor(col)\n",
    "    pen.begin_fill()\n",
    "    for x in range(2):\n",
    "        pen.forward(a)\n",
    "        pen.right(90)\n",
    "        pen.forward(b)\n",
    "        pen.right(90)\n",
    "    pen.end_fill()\n",
    "def di_chuyen(x,y):\n",
    "    pen.penup()\n",
    "    pen.goto(x,y)\n",
    "    pen.pendown()\n",
    "    \n",
    "ve_hcn(100,150,\"#FF6347\")\n",
    "di_chuyen(-100,0)\n",
    "ve_hcn(100,150,\"#FF6347\")\n",
    "di_chuyen(0,150)\n",
    "ve_hcn(100,150,\"#FF6347\")\n",
    "\n",
    "di_chuyen(-100,150)\n",
    "\n",
    "ve_hcn(100,150,\"#FF6347\")\n",
    "\n",
    "di_chuyen(-65,-50)\n",
    "\n",
    "ve_hcn(30,50,\"white\")\n",
    "\n",
    "di_chuyen(35,-50)\n",
    "\n",
    "ve_hcn(30,50,\"white\")\n",
    "\n",
    "di_chuyen(35,100)\n",
    "\n",
    "ve_hcn(30,50,\"white\")\n",
    "\n",
    "di_chuyen(-65,100)\n",
    "\n",
    "ve_hcn(30,50,\"white\")\n",
    "\n",
    "di_chuyen(100,-10)\n",
    "ve_hcn(140,140,\"#8FBC8F\")\n",
    "di_chuyen(140,-150)\n",
    "ve_hcn(30,-70,\"#008080\")\n",
    "di_chuyen(170,-150)\n",
    "ve_hcn(30,-70,\"#008080\")\n",
    "\n",
    "turtle.done()"
   ]
  },
  {
   "cell_type": "code",
   "execution_count": null,
   "id": "0be8a9db",
   "metadata": {},
   "outputs": [],
   "source": []
  }
 ],
 "metadata": {
  "kernelspec": {
   "display_name": "Python 3 (ipykernel)",
   "language": "python",
   "name": "python3"
  },
  "language_info": {
   "codemirror_mode": {
    "name": "ipython",
    "version": 3
   },
   "file_extension": ".py",
   "mimetype": "text/x-python",
   "name": "python",
   "nbconvert_exporter": "python",
   "pygments_lexer": "ipython3",
   "version": "3.9.13"
  }
 },
 "nbformat": 4,
 "nbformat_minor": 5
}
